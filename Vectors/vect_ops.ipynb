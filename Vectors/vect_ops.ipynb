{
 "cells": [
  {
   "cell_type": "markdown",
   "metadata": {},
   "source": [
    "<h1>Horizontal Vector</h1>"
   ]
  },
  {
   "cell_type": "code",
   "execution_count": 1,
   "metadata": {},
   "outputs": [
    {
     "name": "stdout",
     "output_type": "stream",
     "text": [
      "Vector created from a list:\n",
      "[10 20 30 40 50]\n"
     ]
    }
   ],
   "source": [
    "import numpy as np \n",
    " \n",
    "lst = [10,20,30,40,50] \n",
    " \n",
    "vctr = np.array(lst) \n",
    " \n",
    "vctr = np.array(lst) \n",
    " \n",
    "print(\"Vector created from a list:\") \n",
    "print(vctr)"
   ]
  },
  {
   "cell_type": "markdown",
   "metadata": {},
   "source": [
    "<h1>Vertical Vector\n",
    "\n",
    "</h1>"
   ]
  },
  {
   "cell_type": "code",
   "execution_count": 2,
   "metadata": {},
   "outputs": [
    {
     "name": "stdout",
     "output_type": "stream",
     "text": [
      "Vector created from a list:\n",
      "[[ 2]\n",
      " [ 4]\n",
      " [ 6]\n",
      " [10]]\n"
     ]
    }
   ],
   "source": [
    "import numpy as np \n",
    " \n",
    "lst = [[2], \n",
    "        [4], \n",
    "        [6],\n",
    "          [10]]  \n",
    " \n",
    "vctr = np.array(lst) \n",
    " \n",
    "vctr = np.array(lst) \n",
    " \n",
    "print(\"Vector created from a list:\") \n",
    "print(vctr)"
   ]
  },
  {
   "cell_type": "markdown",
   "metadata": {},
   "source": [
    "<h1>Vector Ops</h1>"
   ]
  },
  {
   "cell_type": "code",
   "execution_count": 3,
   "metadata": {},
   "outputs": [
    {
     "name": "stdout",
     "output_type": "stream",
     "text": [
      "Vector created from a list 1:\n",
      "[10 20 30 40 50]\n",
      "Vector created from a list 2:\n",
      "[1 2 3 4 5]\n",
      "Addition of two vectors:  [11 22 33 44 55]\n"
     ]
    }
   ],
   "source": [
    "#Addition\n",
    "import numpy as np \n",
    " \n",
    "lst1 = [10,20,30,40,50] \n",
    "lst2 = [1,2,3,4,5]\n",
    " \n",
    " \n",
    "vctr1 = np.array(lst1) \n",
    " \n",
    "vctr2= np.array(lst2) \n",
    " \n",
    " \n",
    "print(\"Vector created from a list 1:\") \n",
    "print(vctr1) \n",
    "print(\"Vector created from a list 2:\") \n",
    "print(vctr2) \n",
    " \n",
    "vctr_add = vctr1+vctr2\n",
    "print(\"Addition of two vectors: \",vctr_add)"
   ]
  },
  {
   "cell_type": "code",
   "execution_count": 4,
   "metadata": {},
   "outputs": [
    {
     "name": "stdout",
     "output_type": "stream",
     "text": [
      "Vector created from a list 1:\n",
      "[10 20 30 40 50]\n",
      "Vector created from a list 2:\n",
      "[1 2 3 4 5]\n",
      "Subtraction of two vectors:  [ 9 18 27 36 45]\n"
     ]
    }
   ],
   "source": [
    "#Substraction\n",
    "import numpy as np \n",
    " \n",
    "lst1 = [10,20,30,40,50] \n",
    "lst2 = [1,2,3,4,5]\n",
    " \n",
    "vctr1 = np.array(lst1) \n",
    " \n",
    "vctr2= np.array(lst2) \n",
    " \n",
    "print(\"Vector created from a list 1:\") \n",
    "print(vctr1) \n",
    "print(\"Vector created from a list 2:\") \n",
    "print(vctr2) \n",
    " \n",
    "vctr_sub = vctr1-vctr2\n",
    "print(\"Subtraction of two vectors: \",vctr_sub)"
   ]
  },
  {
   "cell_type": "code",
   "execution_count": 5,
   "metadata": {},
   "outputs": [
    {
     "name": "stdout",
     "output_type": "stream",
     "text": [
      "Vector created from a list 1:\n",
      "[10 20 30 40 50]\n",
      "Vector created from a list 2:\n",
      "[1 2 3 4 5]\n",
      "Multiplication of two vectors:  [ 10  40  90 160 250]\n"
     ]
    }
   ],
   "source": [
    "#Muliplication\n",
    "import numpy as np \n",
    " \n",
    "lst1 = [10,20,30,40,50] \n",
    "lst2 = [1,2,3,4,5]\n",
    " \n",
    "vctr1 = np.array(lst1) \n",
    " \n",
    "vctr2= np.array(lst2) \n",
    " \n",
    "print(\"Vector created from a list 1:\") \n",
    "print(vctr1) \n",
    "print(\"Vector created from a list 2:\") \n",
    "print(vctr2) \n",
    " \n",
    "vctr_mul = vctr1*vctr2\n",
    "print(\"Multiplication of two vectors: \",vctr_mul)"
   ]
  },
  {
   "cell_type": "code",
   "execution_count": 6,
   "metadata": {},
   "outputs": [
    {
     "name": "stdout",
     "output_type": "stream",
     "text": [
      "Vector created from a list 1:\n",
      "[10 20 30 40 50]\n",
      "Vector created from a list 2:\n",
      "[10 20 30 40 50]\n",
      "Division of two vectors:  [1. 1. 1. 1. 1.]\n"
     ]
    }
   ],
   "source": [
    "#Division\n",
    "import numpy as np \n",
    "  \n",
    "lst1 = [10,20,30,40,50] \n",
    "lst2 = [10,20,30,40,50]\n",
    "  \n",
    "vctr1 = np.array(lst1) \n",
    "  \n",
    "vctr2= np.array(lst2) \n",
    "  \n",
    "print(\"Vector created from a list 1:\") \n",
    "print(vctr1) \n",
    "print(\"Vector created from a list 2:\") \n",
    "print(vctr2) \n",
    "  \n",
    "vctr_div = vctr1/vctr2\n",
    "print(\"Division of two vectors: \",vctr_div)"
   ]
  },
  {
   "cell_type": "code",
   "execution_count": 7,
   "metadata": {},
   "outputs": [
    {
     "name": "stdout",
     "output_type": "stream",
     "text": [
      "Vector created from a list 1:\n",
      "[10 20 30 40 50]\n",
      "Vector created from a list 2:\n",
      "[1 1 1 1 1]\n",
      "Dot product of two vectors:  150\n"
     ]
    }
   ],
   "source": [
    "#Dot Prod\n",
    "import numpy as np \n",
    " \n",
    "lst1 = [10,20,30,40,50] \n",
    "lst2 = [1,1,1,1,1]\n",
    " \n",
    " \n",
    "vctr1 = np.array(lst1) \n",
    " \n",
    "vctr2= np.array(lst2) \n",
    " \n",
    " \n",
    "print(\"Vector created from a list 1:\") \n",
    "print(vctr1) \n",
    "print(\"Vector created from a list 2:\") \n",
    "print(vctr2) \n",
    " \n",
    "vctr_dot = vctr1.dot(vctr2)\n",
    "print(\"Dot product of two vectors: \",vctr_dot)"
   ]
  },
  {
   "cell_type": "code",
   "execution_count": null,
   "metadata": {},
   "outputs": [],
   "source": []
  }
 ],
 "metadata": {
  "interpreter": {
   "hash": "737baf8d60783bc5bb23695d729761d82de7b65a39c07ac87e986d6f1e28d223"
  },
  "kernelspec": {
   "display_name": "Python 3.6.12 64-bit ('lab': conda)",
   "language": "python",
   "name": "python3"
  },
  "language_info": {
   "codemirror_mode": {
    "name": "ipython",
    "version": 3
   },
   "file_extension": ".py",
   "mimetype": "text/x-python",
   "name": "python",
   "nbconvert_exporter": "python",
   "pygments_lexer": "ipython3",
   "version": "3.6.12"
  },
  "orig_nbformat": 4
 },
 "nbformat": 4,
 "nbformat_minor": 2
}
